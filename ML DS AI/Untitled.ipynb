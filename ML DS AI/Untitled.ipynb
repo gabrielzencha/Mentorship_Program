{
 "cells": [
  {
   "cell_type": "code",
   "execution_count": 2,
   "id": "0259d088",
   "metadata": {},
   "outputs": [
    {
     "name": "stdout",
     "output_type": "stream",
     "text": [
      "Enter your name Gabriel\n",
      "Gabriel\n"
     ]
    }
   ],
   "source": [
    "name = input(\"Enter your name \")\n",
    "print(name)"
   ]
  },
  {
   "cell_type": "code",
   "execution_count": 3,
   "id": "c5a84777",
   "metadata": {},
   "outputs": [
    {
     "name": "stdout",
     "output_type": "stream",
     "text": [
      "Ga\n"
     ]
    }
   ],
   "source": [
    "print(name[0:2])"
   ]
  },
  {
   "cell_type": "code",
   "execution_count": 5,
   "id": "b787eb27",
   "metadata": {},
   "outputs": [
    {
     "name": "stdout",
     "output_type": "stream",
     "text": [
      "Gabriel\n"
     ]
    }
   ],
   "source": [
    "print(name)"
   ]
  },
  {
   "cell_type": "code",
   "execution_count": 6,
   "id": "76dd37fe",
   "metadata": {},
   "outputs": [
    {
     "name": "stdout",
     "output_type": "stream",
     "text": [
      "Gabri\n"
     ]
    }
   ],
   "source": [
    "print(name[:5])"
   ]
  },
  {
   "cell_type": "code",
   "execution_count": 7,
   "id": "05369d21",
   "metadata": {},
   "outputs": [
    {
     "name": "stdout",
     "output_type": "stream",
     "text": [
      "el\n"
     ]
    }
   ],
   "source": [
    "print(name[5:])"
   ]
  },
  {
   "cell_type": "code",
   "execution_count": 8,
   "id": "8dfa1982",
   "metadata": {},
   "outputs": [
    {
     "name": "stdout",
     "output_type": "stream",
     "text": [
      "briel\n"
     ]
    }
   ],
   "source": [
    "print(name[-5:])"
   ]
  },
  {
   "cell_type": "code",
   "execution_count": 9,
   "id": "6be28497",
   "metadata": {},
   "outputs": [],
   "source": [
    "surname = \"this is a very long text and it is difficult to count the indices\""
   ]
  },
  {
   "cell_type": "code",
   "execution_count": 10,
   "id": "c6195756",
   "metadata": {},
   "outputs": [
    {
     "name": "stdout",
     "output_type": "stream",
     "text": [
      "ri\n"
     ]
    }
   ],
   "source": [
    "print(name[-4:-2])"
   ]
  },
  {
   "cell_type": "code",
   "execution_count": 13,
   "id": "02f86022",
   "metadata": {},
   "outputs": [
    {
     "name": "stdout",
     "output_type": "stream",
     "text": [
      "Bertin Fonge\n"
     ]
    }
   ],
   "source": [
    "str1 = \"Bertin\"\n",
    "str2 = \"Fonge\"\n",
    "name_surname = str1 + \" \" +  str2\n",
    "print(name_surname)"
   ]
  },
  {
   "cell_type": "code",
   "execution_count": 22,
   "id": "0c48cf83",
   "metadata": {},
   "outputs": [
    {
     "name": "stdout",
     "output_type": "stream",
     "text": [
      "enter the raduis 13\n",
      "The area of a circle with radius 13 is =530.9979999999999\n"
     ]
    }
   ],
   "source": [
    "raduis = int(input(\"enter the raduis \"))\n",
    "\n",
    "area = 3.142 * int(raduis**2)\n",
    "message = \"The area of a circle with radius \" + str(raduis) + \" is =\" + str(area)\n",
    "print(message)"
   ]
  },
  {
   "cell_type": "code",
   "execution_count": 23,
   "id": "bf001b42",
   "metadata": {},
   "outputs": [
    {
     "name": "stdout",
     "output_type": "stream",
     "text": [
      "G\n"
     ]
    }
   ],
   "source": [
    "print(name[0])"
   ]
  },
  {
   "cell_type": "code",
   "execution_count": 24,
   "id": "957d3ec1",
   "metadata": {},
   "outputs": [
    {
     "name": "stdout",
     "output_type": "stream",
     "text": [
      "l\n"
     ]
    }
   ],
   "source": [
    "print(name[-1])"
   ]
  },
  {
   "cell_type": "code",
   "execution_count": 29,
   "id": "391a932b",
   "metadata": {},
   "outputs": [],
   "source": [
    "number = [1 , 2, 3, 4, 5 ,6, 'name', 'item', 7,8,9]"
   ]
  },
  {
   "cell_type": "code",
   "execution_count": 81,
   "id": "21fdc14d",
   "metadata": {},
   "outputs": [
    {
     "name": "stdout",
     "output_type": "stream",
     "text": [
      "count; quote 2 god 0 not 1\n"
     ]
    }
   ],
   "source": [
    "name = \"gabby favorite quote, God is not. dead quote, dfd .\"\n",
    "name = name.capitalize()\n",
    "\n",
    "print(\"count; quote \" + str(count_quote) + \" god \" + str(count_god) + \" not \" + str(count_not))"
   ]
  },
  {
   "cell_type": "code",
   "execution_count": 93,
   "id": "0f1d8289",
   "metadata": {},
   "outputs": [],
   "source": [
    "expression = '(4*3343)(121*545)(1+2)'"
   ]
  },
  {
   "cell_type": "code",
   "execution_count": 94,
   "id": "850c57d1",
   "metadata": {},
   "outputs": [
    {
     "name": "stdout",
     "output_type": "stream",
     "text": [
      "(4*3343)\n",
      "(121*545)\n",
      "(1+2)\n"
     ]
    }
   ],
   "source": [
    "expre1 = expression[:expression.index(')') +1]\n",
    "expression = expression[expression.index(')')+1:]\n",
    "expre2  = expression[:expression.index(')') +1]\n",
    "expression = expression[expression.index(')')+1:]\n",
    "expre3  = expression[:expression.index(')') +1]\n",
    "print(expre1)\n",
    "print(expre2)\n",
    "print(expre3)"
   ]
  },
  {
   "cell_type": "code",
   "execution_count": null,
   "id": "07885306",
   "metadata": {},
   "outputs": [],
   "source": []
  }
 ],
 "metadata": {
  "kernelspec": {
   "display_name": "Python 3 (ipykernel)",
   "language": "python",
   "name": "python3"
  },
  "language_info": {
   "codemirror_mode": {
    "name": "ipython",
    "version": 3
   },
   "file_extension": ".py",
   "mimetype": "text/x-python",
   "name": "python",
   "nbconvert_exporter": "python",
   "pygments_lexer": "ipython3",
   "version": "3.8.10"
  }
 },
 "nbformat": 4,
 "nbformat_minor": 5
}
